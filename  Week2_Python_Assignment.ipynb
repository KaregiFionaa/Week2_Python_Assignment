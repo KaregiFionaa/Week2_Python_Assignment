{
 "cells": [
  {
   "cell_type": "markdown",
   "metadata": {},
   "source": [
    " ### 1. Sum of Integers in a List"
   ]
  },
  {
   "cell_type": "code",
   "execution_count": 2,
   "metadata": {},
   "outputs": [
    {
     "name": "stdout",
     "output_type": "stream",
     "text": [
      "Enter integers separated by spaces: 5 10 15 20\n",
      "The sum of all integers in the list is: 50\n"
     ]
    }
   ],
   "source": [
    "# Accept user input to create a list of integers\n",
    "input_numbers = input(\"Enter integers separated by spaces: \")\n",
    "number_list = [int(num) for num in input_numbers.split()]\n",
    "\n",
    "# Compute the sum\n",
    "total_sum = sum(number_list)\n",
    "print(\"The sum of all integers in the list is:\", total_sum)"
   ]
  },
  {
   "cell_type": "markdown",
   "metadata": {},
   "source": [
    "### 2. Tuple of Favorite Books"
   ]
  },
  {
   "cell_type": "code",
   "execution_count": 3,
   "metadata": {},
   "outputs": [
    {
     "name": "stdout",
     "output_type": "stream",
     "text": [
      "1984\n",
      "To Kill a Mockingbird\n",
      "The Great Gatsby\n",
      "Pride and Prejudice\n",
      "Moby Dick\n"
     ]
    }
   ],
   "source": [
    "# Create a tuple containing favorite book names\n",
    "favorite_books = (\"1984\", \"To Kill a Mockingbird\", \"The Great Gatsby\", \"Pride and Prejudice\", \"Moby Dick\")\n",
    "\n",
    "# Print each book name on a separate line\n",
    "for book in favorite_books:\n",
    "    print(book)"
   ]
  },
  {
   "cell_type": "markdown",
   "metadata": {},
   "source": [
    "### 3. Person Information Dictionary"
   ]
  },
  {
   "cell_type": "code",
   "execution_count": 4,
   "metadata": {},
   "outputs": [
    {
     "name": "stdout",
     "output_type": "stream",
     "text": [
      "Enter your name: Karegi\n",
      "Enter your age: 28\n",
      "Enter your favorite color: Yellow\n",
      "Person Information: {'name': 'Karegi', 'age': '28', 'favorite_color': 'Yellow'}\n"
     ]
    }
   ],
   "source": [
    "# Create a dictionary to store person information\n",
    "person_info = {}\n",
    "\n",
    "# Ask the user for input\n",
    "person_info['name'] = input(\"Enter your name: \")\n",
    "person_info['age'] = input(\"Enter your age: \")\n",
    "person_info['favorite_color'] = input(\"Enter your favorite color: \")\n",
    "\n",
    "# Print the dictionary\n",
    "print(\"Person Information:\", person_info)"
   ]
  },
  {
   "cell_type": "markdown",
   "metadata": {},
   "source": [
    "### 4. Common Elements in Two Sets"
   ]
  },
  {
   "cell_type": "code",
   "execution_count": 5,
   "metadata": {},
   "outputs": [
    {
     "name": "stdout",
     "output_type": "stream",
     "text": [
      "Enter integers for the first set separated by spaces: 16 10 19 96 33 12\n",
      "Enter integers for the second set separated by spaces: 17 06 02 17 9 19 97\n",
      "Common elements in both sets: {19}\n"
     ]
    }
   ],
   "source": [
    "# Accept user input to create two sets of integers\n",
    "set1_input = input(\"Enter integers for the first set separated by spaces: \")\n",
    "set2_input = input(\"Enter integers for the second set separated by spaces: \")\n",
    "\n",
    "set1 = {int(num) for num in set1_input.split()}\n",
    "set2 = {int(num) for num in set2_input.split()}\n",
    "\n",
    "# Create a new set with common elements\n",
    "common_elements = set1.intersection(set2)\n",
    "print(\"Common elements in both sets:\", common_elements)"
   ]
  },
  {
   "cell_type": "markdown",
   "metadata": {},
   "source": [
    "### 5. List Comprehension for Odd Length Words"
   ]
  },
  {
   "cell_type": "code",
   "execution_count": 6,
   "metadata": {},
   "outputs": [
    {
     "name": "stdout",
     "output_type": "stream",
     "text": [
      "Words with an odd number of characters: ['hello', 'world', 'great', 'fun']\n"
     ]
    }
   ],
   "source": [
    "# Store a list of words\n",
    "words = [\"hello\", \"world\", \"Python\", \"is\", \"great\", \"fun\"]\n",
    "\n",
    "# Use list comprehension to create a new list with words that have an odd number of characters\n",
    "odd_length_words = [word for word in words if len(word) % 2 != 0]\n",
    "print(\"Words with an odd number of characters:\", odd_length_words)"
   ]
  },
  {
   "cell_type": "code",
   "execution_count": null,
   "metadata": {},
   "outputs": [],
   "source": []
  }
 ],
 "metadata": {
  "kernelspec": {
   "display_name": "Python (learn-env)",
   "language": "python",
   "name": "learn-env"
  },
  "language_info": {
   "codemirror_mode": {
    "name": "ipython",
    "version": 3
   },
   "file_extension": ".py",
   "mimetype": "text/x-python",
   "name": "python",
   "nbconvert_exporter": "python",
   "pygments_lexer": "ipython3",
   "version": "3.8.5"
  }
 },
 "nbformat": 4,
 "nbformat_minor": 4
}
